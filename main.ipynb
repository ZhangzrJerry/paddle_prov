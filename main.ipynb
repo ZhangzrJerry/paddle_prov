{
 "cells": [
  {
   "cell_type": "code",
   "execution_count": 1,
   "metadata": {},
   "outputs": [],
   "source": [
    "import os\n",
    "import numpy as np\n",
    "import pandas as pd\n",
    "import matplotlib.pyplot as partial\n",
    "%matplotlib inline"
   ]
  },
  {
   "cell_type": "code",
   "execution_count": 2,
   "metadata": {},
   "outputs": [
    {
     "data": {
      "text/html": [
       "<div>\n",
       "<style scoped>\n",
       "    .dataframe tbody tr th:only-of-type {\n",
       "        vertical-align: middle;\n",
       "    }\n",
       "\n",
       "    .dataframe tbody tr th {\n",
       "        vertical-align: top;\n",
       "    }\n",
       "\n",
       "    .dataframe thead th {\n",
       "        text-align: right;\n",
       "    }\n",
       "</style>\n",
       "<table border=\"1\" class=\"dataframe\">\n",
       "  <thead>\n",
       "    <tr style=\"text-align: right;\">\n",
       "      <th></th>\n",
       "      <th>text</th>\n",
       "      <th>BIO_anno</th>\n",
       "      <th>class</th>\n",
       "    </tr>\n",
       "  </thead>\n",
       "  <tbody>\n",
       "    <tr>\n",
       "      <th>0</th>\n",
       "      <td>交行14年用过，半年准备提额，却直接被降到1Ｋ，半年期间只T过一次三千，其它全部真实消费，第...</td>\n",
       "      <td>B-BANK I-BANK O O O O O O O O O O B-COMMENTS_N...</td>\n",
       "      <td>0</td>\n",
       "    </tr>\n",
       "    <tr>\n",
       "      <th>1</th>\n",
       "      <td>单标我有了，最近visa双标返现活动好</td>\n",
       "      <td>B-PRODUCT I-PRODUCT O O O O O O B-PRODUCT I-PR...</td>\n",
       "      <td>1</td>\n",
       "    </tr>\n",
       "    <tr>\n",
       "      <th>2</th>\n",
       "      <td>建设银行提额很慢的……</td>\n",
       "      <td>B-BANK I-BANK I-BANK I-BANK B-COMMENTS_N I-COM...</td>\n",
       "      <td>0</td>\n",
       "    </tr>\n",
       "    <tr>\n",
       "      <th>3</th>\n",
       "      <td>我的怎么显示0.25费率，而且不管分多少期都一样费率，可惜只有69k</td>\n",
       "      <td>O O O O O O O O O O B-COMMENTS_N I-COMMENTS_N ...</td>\n",
       "      <td>2</td>\n",
       "    </tr>\n",
       "    <tr>\n",
       "      <th>4</th>\n",
       "      <td>利率不错，可以撸</td>\n",
       "      <td>B-COMMENTS_N I-COMMENTS_N B-COMMENTS_ADJ I-COM...</td>\n",
       "      <td>1</td>\n",
       "    </tr>\n",
       "  </tbody>\n",
       "</table>\n",
       "</div>"
      ],
      "text/plain": [
       "                                                text  \\\n",
       "0  交行14年用过，半年准备提额，却直接被降到1Ｋ，半年期间只T过一次三千，其它全部真实消费，第...   \n",
       "1                                单标我有了，最近visa双标返现活动好   \n",
       "2                                        建设银行提额很慢的……   \n",
       "3                 我的怎么显示0.25费率，而且不管分多少期都一样费率，可惜只有69k   \n",
       "4                                           利率不错，可以撸   \n",
       "\n",
       "                                            BIO_anno  class  \n",
       "0  B-BANK I-BANK O O O O O O O O O O B-COMMENTS_N...      0  \n",
       "1  B-PRODUCT I-PRODUCT O O O O O O B-PRODUCT I-PR...      1  \n",
       "2  B-BANK I-BANK I-BANK I-BANK B-COMMENTS_N I-COM...      0  \n",
       "3  O O O O O O O O O O B-COMMENTS_N I-COMMENTS_N ...      2  \n",
       "4  B-COMMENTS_N I-COMMENTS_N B-COMMENTS_ADJ I-COM...      1  "
      ]
     },
     "execution_count": 2,
     "metadata": {},
     "output_type": "execute_result"
    }
   ],
   "source": [
    "# 导入训练数据和测试数据\n",
    "df_train = pd.read_csv(\"train_data_public.csv\")\n",
    "df_test = pd.read_csv(\"test_public.csv\")\n",
    "df_train = df_train.drop(['id'],axis=1)\n",
    "df_test = df_test.drop(['id'],axis=1)\n",
    "df_train.head()"
   ]
  },
  {
   "cell_type": "code",
   "execution_count": 3,
   "metadata": {},
   "outputs": [
    {
     "name": "stderr",
     "output_type": "stream",
     "text": [
      "c:\\Users\\Administer\\AppData\\Local\\Programs\\Python\\Python39\\lib\\site-packages\\tqdm\\auto.py:22: TqdmWarning: IProgress not found. Please update jupyter and ipywidgets. See https://ipywidgets.readthedocs.io/en/stable/user_install.html\n",
      "  from .autonotebook import tqdm as notebook_tqdm\n",
      "INFO 2022-08-25 19:06:37,301 download.py:117] unique_endpoints {''}\n",
      "INFO 2022-08-25 19:06:37,304 download.py:250] Downloading w2v.baidu_encyclopedia.target.word-word.dim300.tar.gz from https://bj.bcebos.com/paddlenlp/models/embeddings/w2v.baidu_encyclopedia.target.word-word.dim300.tar.gz\n",
      "100%|██████████| 694483/694483 [04:04<00:00, 2841.91it/s]\n",
      "INFO 2022-08-25 19:10:42,094 download.py:287] Decompressing C:\\Users\\Administer\\.paddlenlp\\models\\embeddings\\w2v.baidu_encyclopedia.target.word-word.dim300.tar.gz...\n",
      "\u001b[32m[2022-08-25 19:11:19,087] [    INFO]\u001b[0m - Loading token embedding...\u001b[0m\n",
      "\u001b[32m[2022-08-25 19:11:51,152] [    INFO]\u001b[0m - Finish loading embedding vector.\u001b[0m\n",
      "\u001b[32m[2022-08-25 19:11:51,154] [    INFO]\u001b[0m - Token Embedding info:             \n",
      "Unknown index: 635963             \n",
      "Unknown token: [UNK]             \n",
      "Padding index: 635964             \n",
      "Padding token: [PAD]             \n",
      "Shape :[635965, 300]\u001b[0m\n"
     ]
    },
    {
     "name": "stdout",
     "output_type": "stream",
     "text": [
      "Object   type: TokenEmbedding(635965, 300, padding_idx=635964, sparse=False)             \n",
      "Unknown index: 635963             \n",
      "Unknown token: [UNK]             \n",
      "Padding index: 635964             \n",
      "Padding token: [PAD]             \n",
      "Parameter containing:\n",
      "Tensor(shape=[635965, 300], dtype=float32, place=Place(cpu), stop_gradient=False,\n",
      "       [[-0.24200200,  0.13931701,  0.07378800, ...,  0.14103900,\n",
      "          0.05592300, -0.08004800],\n",
      "        [-0.08671700,  0.07770800,  0.09515300, ...,  0.11196400,\n",
      "          0.03082200, -0.12893000],\n",
      "        [-0.11436500,  0.12201900,  0.02833000, ...,  0.11068700,\n",
      "          0.03607300, -0.13763499],\n",
      "        ...,\n",
      "        [ 0.02628800, -0.00008300, -0.00393500, ...,  0.00654000,\n",
      "          0.00024600, -0.00662600],\n",
      "        [ 0.03962795,  0.02804082,  0.00407689, ..., -0.01970535,\n",
      "          0.00478507,  0.00811509],\n",
      "        [ 0.        ,  0.        ,  0.        , ...,  0.        ,\n",
      "          0.        ,  0.        ]])\n"
     ]
    }
   ],
   "source": [
    "# 加载TokenEmbedding\n",
    "from paddlenlp.embeddings import TokenEmbedding\n",
    "\n",
    "# 初始化TokenEmbedding， 预训练embedding未下载时会自动下载并加载数据\n",
    "token_embedding = TokenEmbedding(embedding_name=\"w2v.baidu_encyclopedia.target.word-word.dim300\")\n",
    "\n",
    "# 查看token_embedding详情\n",
    "print(token_embedding)"
   ]
  },
  {
   "cell_type": "code",
   "execution_count": 4,
   "metadata": {},
   "outputs": [],
   "source": [
    "import paddle\n",
    "import paddle.nn as nn\n",
    "import paddlenlp\n",
    "\n",
    "# 构建词袋模型\n",
    "class BoWModel(nn.Layer):\n",
    "    def __init__(self, embedder):\n",
    "        super().__init__()\n",
    "        self.embedder = embedder\n",
    "        emb_dim = self.embedder.embedding_dim\n",
    "        self.encoder = paddlenlp.seq2vec.BoWEncoder(emb_dim)\n",
    "        self.cos_sim_func = nn.CosineSimilarity(axis=-1)\n",
    "\n",
    "    def forward(self, text):\n",
    "        # Shape: (batch_size, num_tokens, embedding_dim)\n",
    "        embedded_text = self.embedder(text)\n",
    "\n",
    "        # Shape: (batch_size, embedding_dim)\n",
    "        summed = self.encoder(embedded_text)\n",
    "\n",
    "        return summed\n",
    "\n",
    "model = BoWModel(embedder=token_embedding)"
   ]
  },
  {
   "cell_type": "code",
   "execution_count": 33,
   "metadata": {},
   "outputs": [],
   "source": [
    "from Tokenizer import Tokenizer\n",
    "tokenizer = Tokenizer()\n",
    "tokenizer.set_vocab(vocab=token_embedding.vocab)\n",
    "train_dataset = []\n",
    "for x in df_train['text']:\n",
    "    train_dataset.append(tokenizer.text_to_ids(x))\n",
    "train_dataset = np.c_[train_dataset,df_train['class']]"
   ]
  },
  {
   "cell_type": "code",
   "execution_count": 37,
   "metadata": {},
   "outputs": [
    {
     "data": {
      "text/plain": [
       "array([[-7.07530e-02, -3.12400e-03,  1.84552e-01, -2.67849e-01,\n",
       "        -8.77220e-02, -8.69740e-02,  1.36138e-01, -7.10070e-02,\n",
       "        -3.80880e-02, -1.50260e-02, -1.57950e-02,  1.82037e-01,\n",
       "        -3.69100e-02,  2.22004e-01,  2.50253e-01, -4.92480e-02,\n",
       "        -1.22834e-01,  2.48200e-03,  2.35333e-01, -2.97400e-01,\n",
       "         2.12635e-01, -9.12950e-02, -2.11589e-01, -3.88830e-02,\n",
       "         3.64160e-02,  1.30371e-01, -7.92670e-02,  1.99963e-01,\n",
       "         1.99222e-01,  1.38630e-02, -5.08490e-02,  2.74900e-02,\n",
       "        -6.26530e-02,  1.35996e-01,  1.74689e-01, -4.88340e-02,\n",
       "         5.69360e-02,  1.28470e-02,  2.49442e-01,  3.55970e-02,\n",
       "         2.29490e-02,  4.67700e-03, -2.01530e-01, -7.96470e-02,\n",
       "         2.49525e-01,  5.24710e-02, -1.78263e-01, -1.06662e-01,\n",
       "         1.54286e-01,  8.03910e-02,  4.09948e-01,  1.48444e-01,\n",
       "         9.40520e-02,  4.82200e-02,  9.85370e-02,  4.49790e-02,\n",
       "         3.20980e-02, -4.57840e-02, -5.33584e-01,  2.00941e-01,\n",
       "         3.52264e-01, -2.10759e-01, -1.49114e-01, -3.44460e-02,\n",
       "        -6.61670e-02, -1.28324e-01, -2.33280e-01, -9.17930e-02,\n",
       "         5.13000e-03, -1.89500e-01, -3.19222e-01, -2.00260e-02,\n",
       "         1.20195e-01, -3.13002e-01,  1.47808e-01, -2.69316e-01,\n",
       "         9.52830e-02, -1.43750e-02, -7.92590e-02, -1.95398e-01,\n",
       "        -2.62420e-02, -1.51287e-01,  2.26410e-01, -3.93218e-01,\n",
       "        -2.43414e-01,  3.50569e-01,  3.26831e-01,  4.97286e-01,\n",
       "        -4.31840e-02, -3.26953e-01,  2.17503e-01,  1.37598e-01,\n",
       "        -1.28843e-01, -1.54193e-01, -1.77529e-01,  1.51783e-01,\n",
       "        -4.25576e-01, -6.70420e-02,  2.60196e-01,  3.41039e-01,\n",
       "         1.97767e-01, -2.49984e-01,  1.01270e-02, -4.11187e-01,\n",
       "         2.30981e-01, -3.56676e-01,  2.67526e-01, -1.29615e-01,\n",
       "         1.42602e-01,  2.34383e-01,  4.25330e-02,  7.38390e-02,\n",
       "        -2.62750e-02, -2.40850e-01,  3.02837e-01, -1.30439e-01,\n",
       "         2.40477e-01, -9.05200e-03, -3.94940e-02, -3.49554e-01,\n",
       "        -1.68325e-01,  1.32735e-01,  1.12618e-01, -1.07723e-01,\n",
       "        -6.13710e-02,  1.30772e-01, -2.50990e-02,  5.51800e-03,\n",
       "        -6.60620e-02,  2.22723e-01, -9.06950e-02,  1.62039e-01,\n",
       "        -2.85882e-01,  1.62831e-01,  4.75850e-02, -2.14402e-01,\n",
       "         1.81957e-01, -2.35936e-01, -1.59690e-02, -9.31580e-02,\n",
       "         1.43649e-01,  1.36886e-01,  1.22435e-01,  4.21280e-02,\n",
       "        -3.75641e-01,  3.48399e-01,  4.33660e-02,  1.47340e-02,\n",
       "         8.71960e-02,  2.53700e-03,  6.12430e-02,  1.53160e-02,\n",
       "         1.35640e-01,  6.39550e-02,  3.85470e-02,  1.29028e-01,\n",
       "         2.17421e-01,  1.59553e-01, -1.07718e-01, -3.18870e-02,\n",
       "         6.61950e-02, -2.37387e-01,  9.02120e-02, -8.25800e-03,\n",
       "        -4.96303e-01, -1.19597e-01,  2.17210e-02,  6.83770e-02,\n",
       "        -2.95912e-01,  1.96334e-01, -2.20075e-01, -1.58086e-01,\n",
       "         8.73180e-02, -2.20053e-01,  2.23645e-01, -2.39385e-01,\n",
       "        -9.39950e-02, -1.27132e-01,  1.95268e-01, -2.68837e-01,\n",
       "        -3.81028e-01,  6.50130e-02,  1.32663e-01, -3.21027e-01,\n",
       "         9.60490e-02,  1.44898e-01, -1.55119e-01,  1.31180e-01,\n",
       "        -1.19007e-01,  1.08737e-01, -3.46216e-01, -2.18786e-01,\n",
       "         3.88508e-01, -1.27562e-01, -1.59233e-01,  4.14520e-02,\n",
       "        -3.59500e-03, -1.78971e-01, -1.92646e-01,  6.06970e-02,\n",
       "        -2.31589e-01,  3.67670e-02,  1.70020e-02, -2.69158e-01,\n",
       "         2.97330e-02, -1.81158e-01, -1.21572e-01,  1.36636e-01,\n",
       "        -1.01598e-01, -3.02309e-01,  1.80552e-01,  1.49061e-01,\n",
       "         2.12060e-02,  5.75550e-02,  2.58775e-01,  1.37355e-01,\n",
       "         3.72580e-02, -1.92250e-02,  9.51020e-02, -1.39003e-01,\n",
       "        -1.63289e-01, -1.34062e-01, -6.21590e-02, -1.90496e-01,\n",
       "         1.83351e-01, -9.27670e-02,  3.76678e-01,  2.59082e-01,\n",
       "        -6.04950e-02, -7.81770e-02,  4.24600e-02,  1.85065e-01,\n",
       "        -1.05754e-01, -5.75630e-02, -6.32130e-02, -3.54334e-01,\n",
       "         1.49586e-01, -1.81841e-01,  1.06501e-01, -1.75199e-01,\n",
       "         2.49760e-02,  2.73911e-01,  9.08390e-02, -1.75275e-01,\n",
       "        -2.23230e-02, -4.97770e-02, -5.19230e-02,  7.82940e-02,\n",
       "        -3.90417e-01, -1.09148e-01,  3.54211e-01, -3.49209e-01,\n",
       "        -1.63860e-02, -3.09849e-01, -2.67797e-01, -1.20404e-01,\n",
       "        -6.81040e-02,  1.18378e-01,  1.83055e-01, -3.40143e-01,\n",
       "         7.70010e-02,  1.48886e-01, -1.07271e-01,  8.20400e-02,\n",
       "         9.69400e-03,  2.27999e-01,  2.60716e-01,  1.57500e-03,\n",
       "         2.35467e-01,  1.05639e-01,  1.43845e-01,  4.23098e-01,\n",
       "        -3.36068e-01,  1.85688e-01, -2.42853e-01,  1.57267e-01,\n",
       "        -2.11668e-01,  1.97188e-01, -8.52510e-02, -1.63197e-01,\n",
       "        -2.78000e-04, -3.11200e-01, -1.02997e-01, -2.52665e-01,\n",
       "         4.45714e-01,  7.60850e-02, -2.23272e-01,  8.36080e-02,\n",
       "         6.17884e-01, -1.05150e-02,  4.30730e-02, -4.11260e-02,\n",
       "         2.52451e-01,  2.29243e-01,  8.06200e-02, -9.55170e-02,\n",
       "        -1.42856e-01,  4.74800e-02, -2.25429e-01, -4.28379e-01]],\n",
       "      dtype=float32)"
      ]
     },
     "execution_count": 37,
     "metadata": {},
     "output_type": "execute_result"
    }
   ],
   "source": [
    "token_embedding.search(\"我\")"
   ]
  },
  {
   "cell_type": "code",
   "execution_count": 36,
   "metadata": {},
   "outputs": [
    {
     "ename": "ValueError",
     "evalue": "(InvalidArgument) The input tensor's dimension should be equal to the axis's size. But received input tensor's dimension is 1, axis's size is 3\n  [Hint: Expected x_rank == axis_size, but received x_rank:1 != axis_size:3.] (at C:\\home\\workspace\\Paddle_release\\paddle/fluid/operators/transpose_op.cc:47)\n  [operator < transpose2 > error]",
     "output_type": "error",
     "traceback": [
      "\u001b[1;31m---------------------------------------------------------------------------\u001b[0m",
      "\u001b[1;31mValueError\u001b[0m                                Traceback (most recent call last)",
      "\u001b[1;32md:\\项目\\让我们荡起飞桨\\飞桨_观点提取\\main.ipynb Cell 7\u001b[0m in \u001b[0;36m<cell line: 3>\u001b[1;34m()\u001b[0m\n\u001b[0;32m      <a href='vscode-notebook-cell:/d%3A/%E9%A1%B9%E7%9B%AE/%E8%AE%A9%E6%88%91%E4%BB%AC%E8%8D%A1%E8%B5%B7%E9%A3%9E%E6%A1%A8/%E9%A3%9E%E6%A1%A8_%E8%A7%82%E7%82%B9%E6%8F%90%E5%8F%96/main.ipynb#X12sZmlsZQ%3D%3D?line=0'>1</a>\u001b[0m tested \u001b[39m=\u001b[39m paddle\u001b[39m.\u001b[39mto_tensor([\u001b[39m2\u001b[39m])\n\u001b[1;32m----> <a href='vscode-notebook-cell:/d%3A/%E9%A1%B9%E7%9B%AE/%E8%AE%A9%E6%88%91%E4%BB%AC%E8%8D%A1%E8%B5%B7%E9%A3%9E%E6%A1%A8/%E9%A3%9E%E6%A1%A8_%E8%A7%82%E7%82%B9%E6%8F%90%E5%8F%96/main.ipynb#X12sZmlsZQ%3D%3D?line=2'>3</a>\u001b[0m y\u001b[39m=\u001b[39m rnn(tested)\n",
      "File \u001b[1;32mc:\\Users\\Administer\\AppData\\Local\\Programs\\Python\\Python39\\lib\\site-packages\\paddle\\fluid\\dygraph\\layers.py:930\u001b[0m, in \u001b[0;36mLayer.__call__\u001b[1;34m(self, *inputs, **kwargs)\u001b[0m\n\u001b[0;32m    928\u001b[0m     \u001b[39mreturn\u001b[39;00m \u001b[39mself\u001b[39m\u001b[39m.\u001b[39mforward(\u001b[39m*\u001b[39minputs, \u001b[39m*\u001b[39m\u001b[39m*\u001b[39mkwargs)\n\u001b[0;32m    929\u001b[0m \u001b[39melse\u001b[39;00m:\n\u001b[1;32m--> 930\u001b[0m     \u001b[39mreturn\u001b[39;00m \u001b[39mself\u001b[39m\u001b[39m.\u001b[39m_dygraph_call_func(\u001b[39m*\u001b[39minputs, \u001b[39m*\u001b[39m\u001b[39m*\u001b[39mkwargs)\n",
      "File \u001b[1;32mc:\\Users\\Administer\\AppData\\Local\\Programs\\Python\\Python39\\lib\\site-packages\\paddle\\fluid\\dygraph\\layers.py:915\u001b[0m, in \u001b[0;36mLayer._dygraph_call_func\u001b[1;34m(self, *inputs, **kwargs)\u001b[0m\n\u001b[0;32m    913\u001b[0m         outputs \u001b[39m=\u001b[39m \u001b[39mself\u001b[39m\u001b[39m.\u001b[39mforward(\u001b[39m*\u001b[39minputs, \u001b[39m*\u001b[39m\u001b[39m*\u001b[39mkwargs)\n\u001b[0;32m    914\u001b[0m \u001b[39melse\u001b[39;00m:\n\u001b[1;32m--> 915\u001b[0m     outputs \u001b[39m=\u001b[39m \u001b[39mself\u001b[39m\u001b[39m.\u001b[39mforward(\u001b[39m*\u001b[39minputs, \u001b[39m*\u001b[39m\u001b[39m*\u001b[39mkwargs)\n\u001b[0;32m    917\u001b[0m \u001b[39mfor\u001b[39;00m forward_post_hook \u001b[39min\u001b[39;00m \u001b[39mself\u001b[39m\u001b[39m.\u001b[39m_forward_post_hooks\u001b[39m.\u001b[39mvalues():\n\u001b[0;32m    918\u001b[0m     hook_result \u001b[39m=\u001b[39m forward_post_hook(\u001b[39mself\u001b[39m, inputs, outputs)\n",
      "File \u001b[1;32mc:\\Users\\Administer\\AppData\\Local\\Programs\\Python\\Python39\\lib\\site-packages\\paddle\\nn\\layer\\rnn.py:1077\u001b[0m, in \u001b[0;36mRNNBase.forward\u001b[1;34m(self, inputs, initial_states, sequence_length)\u001b[0m\n\u001b[0;32m   1070\u001b[0m     initial_states \u001b[39m=\u001b[39m [initial_states] \u001b[39mif\u001b[39;00m \u001b[39misinstance\u001b[39m(\n\u001b[0;32m   1071\u001b[0m         initial_states, paddle\u001b[39m.\u001b[39mstatic\u001b[39m.\u001b[39mVariable) \u001b[39melse\u001b[39;00m initial_states\n\u001b[0;32m   1073\u001b[0m \u001b[39mif\u001b[39;00m \u001b[39mself\u001b[39m\u001b[39m.\u001b[39mcould_use_cudnn \u001b[39mand\u001b[39;00m (\n\u001b[0;32m   1074\u001b[0m         \u001b[39mnot\u001b[39;00m paddle\u001b[39m.\u001b[39mdevice\u001b[39m.\u001b[39mis_compiled_with_rocm() \u001b[39mor\u001b[39;00m\n\u001b[0;32m   1075\u001b[0m         sequence_length \u001b[39mis\u001b[39;00m \u001b[39mNone\u001b[39;00m):\n\u001b[0;32m   1076\u001b[0m     \u001b[39m# Add CPU kernel and dispatch in backend later\u001b[39;00m\n\u001b[1;32m-> 1077\u001b[0m     \u001b[39mreturn\u001b[39;00m \u001b[39mself\u001b[39;49m\u001b[39m.\u001b[39;49m_cudnn_impl(inputs, initial_states, sequence_length)\n\u001b[0;32m   1079\u001b[0m states \u001b[39m=\u001b[39m split_states(initial_states, \u001b[39mself\u001b[39m\u001b[39m.\u001b[39mnum_directions \u001b[39m==\u001b[39m \u001b[39m2\u001b[39m,\n\u001b[0;32m   1080\u001b[0m                       \u001b[39mself\u001b[39m\u001b[39m.\u001b[39mstate_components)\n\u001b[0;32m   1081\u001b[0m final_states \u001b[39m=\u001b[39m []\n",
      "File \u001b[1;32mc:\\Users\\Administer\\AppData\\Local\\Programs\\Python\\Python39\\lib\\site-packages\\paddle\\nn\\layer\\rnn.py:1009\u001b[0m, in \u001b[0;36mRNNBase._cudnn_impl\u001b[1;34m(self, inputs, initial_states, sequence_length)\u001b[0m\n\u001b[0;32m   1007\u001b[0m \u001b[39mdef\u001b[39;00m \u001b[39m_cudnn_impl\u001b[39m(\u001b[39mself\u001b[39m, inputs, initial_states, sequence_length):\n\u001b[0;32m   1008\u001b[0m     \u001b[39mif\u001b[39;00m \u001b[39mnot\u001b[39;00m \u001b[39mself\u001b[39m\u001b[39m.\u001b[39mtime_major:\n\u001b[1;32m-> 1009\u001b[0m         inputs \u001b[39m=\u001b[39m paddle\u001b[39m.\u001b[39;49mtensor\u001b[39m.\u001b[39;49mtranspose(inputs, [\u001b[39m1\u001b[39;49m, \u001b[39m0\u001b[39;49m, \u001b[39m2\u001b[39;49m])\n\u001b[0;32m   1011\u001b[0m     \u001b[39mif\u001b[39;00m in_dynamic_mode():\n\u001b[0;32m   1012\u001b[0m         _, _, out, state \u001b[39m=\u001b[39m _C_ops\u001b[39m.\u001b[39mrnn(\n\u001b[0;32m   1013\u001b[0m             inputs, initial_states, \u001b[39mself\u001b[39m\u001b[39m.\u001b[39m_all_weights, sequence_length,\n\u001b[0;32m   1014\u001b[0m             \u001b[39mself\u001b[39m\u001b[39m.\u001b[39m_dropout_state, \u001b[39mself\u001b[39m\u001b[39m.\u001b[39mstate_components, \u001b[39m'\u001b[39m\u001b[39mdropout_prob\u001b[39m\u001b[39m'\u001b[39m,\n\u001b[1;32m   (...)\u001b[0m\n\u001b[0;32m   1017\u001b[0m             \u001b[39m'\u001b[39m\u001b[39mnum_layers\u001b[39m\u001b[39m'\u001b[39m, \u001b[39mself\u001b[39m\u001b[39m.\u001b[39mnum_layers, \u001b[39m'\u001b[39m\u001b[39mmode\u001b[39m\u001b[39m'\u001b[39m, \u001b[39mself\u001b[39m\u001b[39m.\u001b[39mmode, \u001b[39m'\u001b[39m\u001b[39mis_test\u001b[39m\u001b[39m'\u001b[39m,\n\u001b[0;32m   1018\u001b[0m             \u001b[39mnot\u001b[39;00m \u001b[39mself\u001b[39m\u001b[39m.\u001b[39mtraining)\n",
      "File \u001b[1;32mc:\\Users\\Administer\\AppData\\Local\\Programs\\Python\\Python39\\lib\\site-packages\\paddle\\fluid\\layers\\nn.py:5692\u001b[0m, in \u001b[0;36mtranspose\u001b[1;34m(x, perm, name)\u001b[0m\n\u001b[0;32m   5690\u001b[0m \u001b[39melse\u001b[39;00m:\n\u001b[0;32m   5691\u001b[0m     \u001b[39mif\u001b[39;00m _in_legacy_dygraph():\n\u001b[1;32m-> 5692\u001b[0m         out, _ \u001b[39m=\u001b[39m _C_ops\u001b[39m.\u001b[39;49mtranspose2(x, \u001b[39m'\u001b[39;49m\u001b[39maxis\u001b[39;49m\u001b[39m'\u001b[39;49m, perm)\n\u001b[0;32m   5693\u001b[0m         \u001b[39mreturn\u001b[39;00m out\n\u001b[0;32m   5695\u001b[0m check_variable_and_dtype(x, \u001b[39m'\u001b[39m\u001b[39mx\u001b[39m\u001b[39m'\u001b[39m, [\n\u001b[0;32m   5696\u001b[0m     \u001b[39m'\u001b[39m\u001b[39mbool\u001b[39m\u001b[39m'\u001b[39m, \u001b[39m'\u001b[39m\u001b[39mfloat16\u001b[39m\u001b[39m'\u001b[39m, \u001b[39m'\u001b[39m\u001b[39mfloat32\u001b[39m\u001b[39m'\u001b[39m, \u001b[39m'\u001b[39m\u001b[39mfloat64\u001b[39m\u001b[39m'\u001b[39m, \u001b[39m'\u001b[39m\u001b[39mint32\u001b[39m\u001b[39m'\u001b[39m, \u001b[39m'\u001b[39m\u001b[39mint64\u001b[39m\u001b[39m'\u001b[39m, \u001b[39m'\u001b[39m\u001b[39mcomplex64\u001b[39m\u001b[39m'\u001b[39m,\n\u001b[0;32m   5697\u001b[0m     \u001b[39m'\u001b[39m\u001b[39mcomplex128\u001b[39m\u001b[39m'\u001b[39m\n\u001b[0;32m   5698\u001b[0m ], \u001b[39m'\u001b[39m\u001b[39mtranspose\u001b[39m\u001b[39m'\u001b[39m)\n",
      "\u001b[1;31mValueError\u001b[0m: (InvalidArgument) The input tensor's dimension should be equal to the axis's size. But received input tensor's dimension is 1, axis's size is 3\n  [Hint: Expected x_rank == axis_size, but received x_rank:1 != axis_size:3.] (at C:\\home\\workspace\\Paddle_release\\paddle/fluid/operators/transpose_op.cc:47)\n  [operator < transpose2 > error]"
     ]
    }
   ],
   "source": []
  },
  {
   "cell_type": "code",
   "execution_count": null,
   "metadata": {},
   "outputs": [],
   "source": []
  }
 ],
 "metadata": {
  "kernelspec": {
   "display_name": "Python 3.9.1 64-bit",
   "language": "python",
   "name": "python3"
  },
  "language_info": {
   "codemirror_mode": {
    "name": "ipython",
    "version": 3
   },
   "file_extension": ".py",
   "mimetype": "text/x-python",
   "name": "python",
   "nbconvert_exporter": "python",
   "pygments_lexer": "ipython3",
   "version": "3.9.1"
  },
  "orig_nbformat": 4,
  "vscode": {
   "interpreter": {
    "hash": "538aa17ce8a0584118ce85ff12bec826ccfc3555eae6360211bc5883b796f561"
   }
  }
 },
 "nbformat": 4,
 "nbformat_minor": 2
}
