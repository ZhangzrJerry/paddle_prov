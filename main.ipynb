{
 "cells": [
  {
   "cell_type": "code",
   "execution_count": 56,
   "metadata": {},
   "outputs": [],
   "source": [
    "import os\n",
    "import numpy as np\n",
    "import pandas as pd\n",
    "import matplotlib.pyplot as partial\n",
    "%matplotlib inline"
   ]
  },
  {
   "cell_type": "code",
   "execution_count": 83,
   "metadata": {},
   "outputs": [
    {
     "data": {
      "text/html": [
       "<div>\n",
       "<style scoped>\n",
       "    .dataframe tbody tr th:only-of-type {\n",
       "        vertical-align: middle;\n",
       "    }\n",
       "\n",
       "    .dataframe tbody tr th {\n",
       "        vertical-align: top;\n",
       "    }\n",
       "\n",
       "    .dataframe thead th {\n",
       "        text-align: right;\n",
       "    }\n",
       "</style>\n",
       "<table border=\"1\" class=\"dataframe\">\n",
       "  <thead>\n",
       "    <tr style=\"text-align: right;\">\n",
       "      <th></th>\n",
       "      <th>text</th>\n",
       "      <th>BIO_anno</th>\n",
       "      <th>class</th>\n",
       "    </tr>\n",
       "  </thead>\n",
       "  <tbody>\n",
       "    <tr>\n",
       "      <th>0</th>\n",
       "      <td>交行14年用过，半年准备提额，却直接被降到1Ｋ，半年期间只T过一次三千，其它全部真实消费，第...</td>\n",
       "      <td>B-BANK I-BANK O O O O O O O O O O B-COMMENTS_N...</td>\n",
       "      <td>0</td>\n",
       "    </tr>\n",
       "    <tr>\n",
       "      <th>1</th>\n",
       "      <td>单标我有了，最近visa双标返现活动好</td>\n",
       "      <td>B-PRODUCT I-PRODUCT O O O O O O B-PRODUCT I-PR...</td>\n",
       "      <td>1</td>\n",
       "    </tr>\n",
       "    <tr>\n",
       "      <th>2</th>\n",
       "      <td>建设银行提额很慢的……</td>\n",
       "      <td>B-BANK I-BANK I-BANK I-BANK B-COMMENTS_N I-COM...</td>\n",
       "      <td>0</td>\n",
       "    </tr>\n",
       "    <tr>\n",
       "      <th>3</th>\n",
       "      <td>我的怎么显示0.25费率，而且不管分多少期都一样费率，可惜只有69k</td>\n",
       "      <td>O O O O O O O O O O B-COMMENTS_N I-COMMENTS_N ...</td>\n",
       "      <td>2</td>\n",
       "    </tr>\n",
       "    <tr>\n",
       "      <th>4</th>\n",
       "      <td>利率不错，可以撸</td>\n",
       "      <td>B-COMMENTS_N I-COMMENTS_N B-COMMENTS_ADJ I-COM...</td>\n",
       "      <td>1</td>\n",
       "    </tr>\n",
       "  </tbody>\n",
       "</table>\n",
       "</div>"
      ],
      "text/plain": [
       "                                                text  \\\n",
       "0  交行14年用过，半年准备提额，却直接被降到1Ｋ，半年期间只T过一次三千，其它全部真实消费，第...   \n",
       "1                                单标我有了，最近visa双标返现活动好   \n",
       "2                                        建设银行提额很慢的……   \n",
       "3                 我的怎么显示0.25费率，而且不管分多少期都一样费率，可惜只有69k   \n",
       "4                                           利率不错，可以撸   \n",
       "\n",
       "                                            BIO_anno  class  \n",
       "0  B-BANK I-BANK O O O O O O O O O O B-COMMENTS_N...      0  \n",
       "1  B-PRODUCT I-PRODUCT O O O O O O B-PRODUCT I-PR...      1  \n",
       "2  B-BANK I-BANK I-BANK I-BANK B-COMMENTS_N I-COM...      0  \n",
       "3  O O O O O O O O O O B-COMMENTS_N I-COMMENTS_N ...      2  \n",
       "4  B-COMMENTS_N I-COMMENTS_N B-COMMENTS_ADJ I-COM...      1  "
      ]
     },
     "execution_count": 83,
     "metadata": {},
     "output_type": "execute_result"
    }
   ],
   "source": [
    "# 导入训练数据和测试数据\n",
    "df_train = pd.read_csv(\"train_data_public.csv\")\n",
    "df_test = pd.read_csv(\"test_public.csv\")\n",
    "df_train = df_train.drop(['id'],axis=1)\n",
    "df_test = df_test.drop(['id'],axis=1)\n",
    "df_train.head()"
   ]
  },
  {
   "cell_type": "code",
   "execution_count": 74,
   "metadata": {},
   "outputs": [],
   "source": [
    "# # 切分训练集和验证集\n",
    "# ratio = 0.8\n",
    "# offset = int(ratio*len(df_train))\n",
    "# df_dev = df_train.iloc[offset:].copy()\n",
    "# df_train = df_train.iloc[:offset].copy()\n",
    "# df_dev.head()"
   ]
  },
  {
   "cell_type": "code",
   "execution_count": 93,
   "metadata": {},
   "outputs": [],
   "source": [
    "# 利用jieba库完成中午分词\n",
    "import jieba\n",
    "\n",
    "jieba_text = []\n",
    "for x in df_train['text']:\n",
    "    jieba_text.append(jieba.lcut(x))\n",
    "\n",
    "emo_data = np.c_[jieba_text,df_train['class']]"
   ]
  },
  {
   "cell_type": "code",
   "execution_count": null,
   "metadata": {},
   "outputs": [],
   "source": []
  },
  {
   "cell_type": "code",
   "execution_count": 68,
   "metadata": {},
   "outputs": [
    {
     "name": "stderr",
     "output_type": "stream",
     "text": [
      "Building prefix dict from the default dictionary ...\n",
      "DEBUG 2022-08-25 18:30:32,080 __init__.py:113] Building prefix dict from the default dictionary ...\n",
      "Dumping model to file cache C:\\Users\\ADMINI~1\\AppData\\Local\\Temp\\jieba.cache\n",
      "DEBUG 2022-08-25 18:30:32,944 __init__.py:146] Dumping model to file cache C:\\Users\\ADMINI~1\\AppData\\Local\\Temp\\jieba.cache\n",
      "Loading model cost 1.020 seconds.\n",
      "DEBUG 2022-08-25 18:30:33,103 __init__.py:164] Loading model cost 1.020 seconds.\n",
      "Prefix dict has been built successfully.\n",
      "DEBUG 2022-08-25 18:30:33,104 __init__.py:166] Prefix dict has been built successfully.\n"
     ]
    },
    {
     "data": {
      "text/plain": [
       "['工商银行',\n",
       " '的',\n",
       " '信用卡',\n",
       " '是',\n",
       " '经典',\n",
       " '信用卡',\n",
       " '中',\n",
       " '的',\n",
       " '常青树',\n",
       " '，',\n",
       " '在',\n",
       " '工行',\n",
       " '区',\n",
       " '的',\n",
       " '讨论',\n",
       " '热度',\n",
       " '也',\n",
       " '是',\n",
       " '常年',\n",
       " 'TOP',\n",
       " ' ',\n",
       " '1',\n",
       " '。']"
      ]
     },
     "execution_count": 68,
     "metadata": {},
     "output_type": "execute_result"
    }
   ],
   "source": []
  }
 ],
 "metadata": {
  "kernelspec": {
   "display_name": "Python 3.9.1 64-bit",
   "language": "python",
   "name": "python3"
  },
  "language_info": {
   "codemirror_mode": {
    "name": "ipython",
    "version": 3
   },
   "file_extension": ".py",
   "mimetype": "text/x-python",
   "name": "python",
   "nbconvert_exporter": "python",
   "pygments_lexer": "ipython3",
   "version": "3.9.1"
  },
  "orig_nbformat": 4,
  "vscode": {
   "interpreter": {
    "hash": "538aa17ce8a0584118ce85ff12bec826ccfc3555eae6360211bc5883b796f561"
   }
  }
 },
 "nbformat": 4,
 "nbformat_minor": 2
}
